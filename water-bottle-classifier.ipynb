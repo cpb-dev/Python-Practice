{
 "cells": [
  {
   "cell_type": "code",
   "execution_count": 1,
   "id": "5965d016",
   "metadata": {
    "_cell_guid": "b1076dfc-b9ad-4769-8c92-a6c4dae69d19",
    "_uuid": "8f2839f25d086af736a60e9eeb907d3b93b6e0e5",
    "execution": {
     "iopub.execute_input": "2023-02-17T19:01:42.286734Z",
     "iopub.status.busy": "2023-02-17T19:01:42.285215Z",
     "iopub.status.idle": "2023-02-17T19:01:42.310441Z",
     "shell.execute_reply": "2023-02-17T19:01:42.309107Z"
    },
    "papermill": {
     "duration": 0.033976,
     "end_time": "2023-02-17T19:01:42.313440",
     "exception": false,
     "start_time": "2023-02-17T19:01:42.279464",
     "status": "completed"
    },
    "tags": []
   },
   "outputs": [
    {
     "name": "stdout",
     "output_type": "stream",
     "text": [
      "['Full  Water level', 'Half water level', 'Overflowing']\n"
     ]
    }
   ],
   "source": [
    "import numpy as np # linear algebra\n",
    "import pandas as pd # data processing, CSV file I/O (e.g. pd.read_csv)\n",
    "\n",
    "import os\n",
    "\n",
    "files = \"/kaggle/input/water-bottle-dataset\"\n",
    "labels = os.listdir(files)\n",
    "print(labels)\n"
   ]
  },
  {
   "cell_type": "code",
   "execution_count": 2,
   "id": "cb52c263",
   "metadata": {
    "execution": {
     "iopub.execute_input": "2023-02-17T19:01:42.319194Z",
     "iopub.status.busy": "2023-02-17T19:01:42.318783Z",
     "iopub.status.idle": "2023-02-17T19:01:42.419195Z",
     "shell.execute_reply": "2023-02-17T19:01:42.417488Z"
    },
    "papermill": {
     "duration": 0.106333,
     "end_time": "2023-02-17T19:01:42.421864",
     "exception": false,
     "start_time": "2023-02-17T19:01:42.315531",
     "status": "completed"
    },
    "tags": []
   },
   "outputs": [
    {
     "name": "stdout",
     "output_type": "stream",
     "text": [
      "Files with full water bottles:  308\n",
      "Files with half full water bottles:  139\n",
      "Files with overflowing water bottles:  39\n"
     ]
    }
   ],
   "source": [
    "full_files = \"/kaggle/input/water-bottle-dataset/Full  Water level/Full  Water level\"\n",
    "half_files = \"/kaggle/input/water-bottle-dataset/Half water level/Half water level\"\n",
    "overflow_files = \"/kaggle/input/water-bottle-dataset/Overflowing/Overflowing\"\n",
    "\n",
    "print(\"Files with full water bottles: \", len([entry for entry in os.listdir(full_files) if os.path.isfile(os.path.join(full_files, entry))]))\n",
    "print(\"Files with half full water bottles: \", len([entry for entry in os.listdir(half_files) if os.path.isfile(os.path.join(half_files, entry))]))\n",
    "print(\"Files with overflowing water bottles: \", len([entry for entry in os.listdir(overflow_files) if os.path.isfile(os.path.join(overflow_files, entry))]))"
   ]
  }
 ],
 "metadata": {
  "kernelspec": {
   "display_name": "Python 3",
   "language": "python",
   "name": "python3"
  },
  "language_info": {
   "codemirror_mode": {
    "name": "ipython",
    "version": 3
   },
   "file_extension": ".py",
   "mimetype": "text/x-python",
   "name": "python",
   "nbconvert_exporter": "python",
   "pygments_lexer": "ipython3",
   "version": "3.7.12"
  },
  "papermill": {
   "default_parameters": {},
   "duration": 10.018908,
   "end_time": "2023-02-17T19:01:43.147162",
   "environment_variables": {},
   "exception": null,
   "input_path": "__notebook__.ipynb",
   "output_path": "__notebook__.ipynb",
   "parameters": {},
   "start_time": "2023-02-17T19:01:33.128254",
   "version": "2.3.4"
  }
 },
 "nbformat": 4,
 "nbformat_minor": 5
}
