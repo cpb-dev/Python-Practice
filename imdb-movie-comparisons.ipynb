{
 "cells": [
  {
   "cell_type": "code",
   "execution_count": 1,
   "id": "b53fb06a",
   "metadata": {
    "_cell_guid": "b1076dfc-b9ad-4769-8c92-a6c4dae69d19",
    "_uuid": "8f2839f25d086af736a60e9eeb907d3b93b6e0e5",
    "execution": {
     "iopub.execute_input": "2023-02-09T13:46:33.630709Z",
     "iopub.status.busy": "2023-02-09T13:46:33.630119Z",
     "iopub.status.idle": "2023-02-09T13:46:33.653194Z",
     "shell.execute_reply": "2023-02-09T13:46:33.652182Z"
    },
    "papermill": {
     "duration": 0.03229,
     "end_time": "2023-02-09T13:46:33.656355",
     "exception": false,
     "start_time": "2023-02-09T13:46:33.624065",
     "status": "completed"
    },
    "tags": []
   },
   "outputs": [
    {
     "name": "stdout",
     "output_type": "stream",
     "text": [
      "/kaggle/input/imdb-movies/movies.csv\n"
     ]
    }
   ],
   "source": [
    "# This Python 3 environment comes with many helpful analytics libraries installed\n",
    "# It is defined by the kaggle/python Docker image: https://github.com/kaggle/docker-python\n",
    "# For example, here's several helpful packages to load\n",
    "\n",
    "import numpy as np # linear algebra\n",
    "import pandas as pd # data processing, CSV file I/O (e.g. pd.read_csv)\n",
    "\n",
    "# Input data files are available in the read-only \"../input/\" directory\n",
    "# For example, running this (by clicking run or pressing Shift+Enter) will list all files under the input directory\n",
    "\n",
    "import os\n",
    "for dirname, _, filenames in os.walk('/kaggle/input'):\n",
    "    for filename in filenames:\n",
    "        print(os.path.join(dirname, filename))\n",
    "\n",
    "# You can write up to 20GB to the current directory (/kaggle/working/) that gets preserved as output when you create a version using \"Save & Run All\" \n",
    "# You can also write temporary files to /kaggle/temp/, but they won't be saved outside of the current session"
   ]
  },
  {
   "cell_type": "code",
   "execution_count": 2,
   "id": "fe2064b7",
   "metadata": {
    "execution": {
     "iopub.execute_input": "2023-02-09T13:46:33.665328Z",
     "iopub.status.busy": "2023-02-09T13:46:33.664865Z",
     "iopub.status.idle": "2023-02-09T13:46:33.829558Z",
     "shell.execute_reply": "2023-02-09T13:46:33.828125Z"
    },
    "papermill": {
     "duration": 0.172941,
     "end_time": "2023-02-09T13:46:33.833508",
     "exception": false,
     "start_time": "2023-02-09T13:46:33.660567",
     "status": "completed"
    },
    "tags": []
   },
   "outputs": [
    {
     "name": "stdout",
     "output_type": "stream",
     "text": [
      "Missing values in dataset: \n",
      " (10067, 15) certificate    1775\n",
      "runtime           3\n",
      "metascore      2018\n",
      "gross          2815\n",
      "cast1             3\n",
      "cast2             4\n",
      "cast3            10\n",
      "cast4            20\n",
      "dtype: int64 \n",
      "\n"
     ]
    }
   ],
   "source": [
    "data = pd.read_csv('../input/imdb-movies/movies.csv')\n",
    "\n",
    "#Finding missing values\n",
    "missing_vals = (data.isnull().sum())\n",
    "\n",
    "print(\"Missing values in dataset: \\n\", data.shape, missing_vals[missing_vals > 0], \"\\n\")"
   ]
  },
  {
   "cell_type": "code",
   "execution_count": 3,
   "id": "b46793f5",
   "metadata": {
    "execution": {
     "iopub.execute_input": "2023-02-09T13:46:33.841751Z",
     "iopub.status.busy": "2023-02-09T13:46:33.841362Z",
     "iopub.status.idle": "2023-02-09T13:46:33.871774Z",
     "shell.execute_reply": "2023-02-09T13:46:33.870377Z"
    },
    "papermill": {
     "duration": 0.037533,
     "end_time": "2023-02-09T13:46:33.874464",
     "exception": false,
     "start_time": "2023-02-09T13:46:33.836931",
     "status": "completed"
    },
    "tags": []
   },
   "outputs": [
    {
     "data": {
      "text/html": [
       "<div>\n",
       "<style scoped>\n",
       "    .dataframe tbody tr th:only-of-type {\n",
       "        vertical-align: middle;\n",
       "    }\n",
       "\n",
       "    .dataframe tbody tr th {\n",
       "        vertical-align: top;\n",
       "    }\n",
       "\n",
       "    .dataframe thead th {\n",
       "        text-align: right;\n",
       "    }\n",
       "</style>\n",
       "<table border=\"1\" class=\"dataframe\">\n",
       "  <thead>\n",
       "    <tr style=\"text-align: right;\">\n",
       "      <th></th>\n",
       "      <th>title</th>\n",
       "      <th>year</th>\n",
       "      <th>certificate</th>\n",
       "      <th>runtime</th>\n",
       "      <th>genre</th>\n",
       "      <th>rating</th>\n",
       "      <th>metascore</th>\n",
       "      <th>synopsis</th>\n",
       "      <th>director</th>\n",
       "      <th>votes</th>\n",
       "      <th>gross</th>\n",
       "      <th>cast1</th>\n",
       "      <th>cast2</th>\n",
       "      <th>cast3</th>\n",
       "      <th>cast4</th>\n",
       "    </tr>\n",
       "  </thead>\n",
       "  <tbody>\n",
       "    <tr>\n",
       "      <th>0</th>\n",
       "      <td>The Dark Knight</td>\n",
       "      <td>2008</td>\n",
       "      <td>UA</td>\n",
       "      <td>152 min</td>\n",
       "      <td>Action, Crime, Drama</td>\n",
       "      <td>9.0</td>\n",
       "      <td>84.0</td>\n",
       "      <td>When the menace known as the Joker wreaks havo...</td>\n",
       "      <td>Christopher Nolan</td>\n",
       "      <td>2,669,470</td>\n",
       "      <td>$534.86M</td>\n",
       "      <td>Christian Bale</td>\n",
       "      <td>Heath Ledger</td>\n",
       "      <td>Aaron Eckhart</td>\n",
       "      <td>Michael Caine</td>\n",
       "    </tr>\n",
       "    <tr>\n",
       "      <th>1</th>\n",
       "      <td>The Lord of the Rings: The Return of the King</td>\n",
       "      <td>2003</td>\n",
       "      <td>U</td>\n",
       "      <td>201 min</td>\n",
       "      <td>Action, Adventure, Drama</td>\n",
       "      <td>9.0</td>\n",
       "      <td>94.0</td>\n",
       "      <td>Gandalf and Aragorn lead the World of Men agai...</td>\n",
       "      <td>Peter Jackson</td>\n",
       "      <td>1,856,911</td>\n",
       "      <td>$377.85M</td>\n",
       "      <td>Elijah Wood</td>\n",
       "      <td>Viggo Mortensen</td>\n",
       "      <td>Ian McKellen</td>\n",
       "      <td>Orlando Bloom</td>\n",
       "    </tr>\n",
       "    <tr>\n",
       "      <th>2</th>\n",
       "      <td>Inception</td>\n",
       "      <td>2010</td>\n",
       "      <td>UA</td>\n",
       "      <td>148 min</td>\n",
       "      <td>Action, Adventure, Sci-Fi</td>\n",
       "      <td>8.8</td>\n",
       "      <td>74.0</td>\n",
       "      <td>A thief who steals corporate secrets through t...</td>\n",
       "      <td>Christopher Nolan</td>\n",
       "      <td>2,368,139</td>\n",
       "      <td>$292.58M</td>\n",
       "      <td>Leonardo DiCaprio</td>\n",
       "      <td>Joseph Gordon-Levitt</td>\n",
       "      <td>Elliot Page</td>\n",
       "      <td>Ken Watanabe</td>\n",
       "    </tr>\n",
       "    <tr>\n",
       "      <th>3</th>\n",
       "      <td>The Lord of the Rings: The Fellowship of the Ring</td>\n",
       "      <td>2001</td>\n",
       "      <td>U</td>\n",
       "      <td>178 min</td>\n",
       "      <td>Action, Adventure, Drama</td>\n",
       "      <td>8.8</td>\n",
       "      <td>92.0</td>\n",
       "      <td>A meek Hobbit from the Shire and eight compani...</td>\n",
       "      <td>Peter Jackson</td>\n",
       "      <td>1,886,353</td>\n",
       "      <td>$315.54M</td>\n",
       "      <td>Elijah Wood</td>\n",
       "      <td>Ian McKellen</td>\n",
       "      <td>Orlando Bloom</td>\n",
       "      <td>Sean Bean</td>\n",
       "    </tr>\n",
       "    <tr>\n",
       "      <th>4</th>\n",
       "      <td>The Lord of the Rings: The Two Towers</td>\n",
       "      <td>2002</td>\n",
       "      <td>UA</td>\n",
       "      <td>179 min</td>\n",
       "      <td>Action, Adventure, Drama</td>\n",
       "      <td>8.8</td>\n",
       "      <td>87.0</td>\n",
       "      <td>While Frodo and Sam edge closer to Mordor with...</td>\n",
       "      <td>Peter Jackson</td>\n",
       "      <td>1,676,766</td>\n",
       "      <td>$342.55M</td>\n",
       "      <td>Elijah Wood</td>\n",
       "      <td>Ian McKellen</td>\n",
       "      <td>Viggo Mortensen</td>\n",
       "      <td>Orlando Bloom</td>\n",
       "    </tr>\n",
       "  </tbody>\n",
       "</table>\n",
       "</div>"
      ],
      "text/plain": [
       "                                               title  year certificate  \\\n",
       "0                                    The Dark Knight  2008          UA   \n",
       "1      The Lord of the Rings: The Return of the King  2003           U   \n",
       "2                                          Inception  2010          UA   \n",
       "3  The Lord of the Rings: The Fellowship of the Ring  2001           U   \n",
       "4              The Lord of the Rings: The Two Towers  2002          UA   \n",
       "\n",
       "   runtime                      genre  rating  metascore  \\\n",
       "0  152 min       Action, Crime, Drama     9.0       84.0   \n",
       "1  201 min   Action, Adventure, Drama     9.0       94.0   \n",
       "2  148 min  Action, Adventure, Sci-Fi     8.8       74.0   \n",
       "3  178 min   Action, Adventure, Drama     8.8       92.0   \n",
       "4  179 min   Action, Adventure, Drama     8.8       87.0   \n",
       "\n",
       "                                            synopsis           director  \\\n",
       "0  When the menace known as the Joker wreaks havo...  Christopher Nolan   \n",
       "1  Gandalf and Aragorn lead the World of Men agai...      Peter Jackson   \n",
       "2  A thief who steals corporate secrets through t...  Christopher Nolan   \n",
       "3  A meek Hobbit from the Shire and eight compani...      Peter Jackson   \n",
       "4  While Frodo and Sam edge closer to Mordor with...      Peter Jackson   \n",
       "\n",
       "       votes     gross              cast1                 cast2  \\\n",
       "0  2,669,470  $534.86M     Christian Bale          Heath Ledger   \n",
       "1  1,856,911  $377.85M        Elijah Wood       Viggo Mortensen   \n",
       "2  2,368,139  $292.58M  Leonardo DiCaprio  Joseph Gordon-Levitt   \n",
       "3  1,886,353  $315.54M        Elijah Wood          Ian McKellen   \n",
       "4  1,676,766  $342.55M        Elijah Wood          Ian McKellen   \n",
       "\n",
       "             cast3          cast4  \n",
       "0    Aaron Eckhart  Michael Caine  \n",
       "1     Ian McKellen  Orlando Bloom  \n",
       "2      Elliot Page   Ken Watanabe  \n",
       "3    Orlando Bloom      Sean Bean  \n",
       "4  Viggo Mortensen  Orlando Bloom  "
      ]
     },
     "execution_count": 3,
     "metadata": {},
     "output_type": "execute_result"
    }
   ],
   "source": [
    "data.head(5)"
   ]
  },
  {
   "cell_type": "code",
   "execution_count": 4,
   "id": "62bd3c16",
   "metadata": {
    "execution": {
     "iopub.execute_input": "2023-02-09T13:46:33.883309Z",
     "iopub.status.busy": "2023-02-09T13:46:33.882863Z",
     "iopub.status.idle": "2023-02-09T13:46:33.956289Z",
     "shell.execute_reply": "2023-02-09T13:46:33.954991Z"
    },
    "papermill": {
     "duration": 0.081215,
     "end_time": "2023-02-09T13:46:33.959177",
     "exception": false,
     "start_time": "2023-02-09T13:46:33.877962",
     "status": "completed"
    },
    "tags": []
   },
   "outputs": [
    {
     "name": "stderr",
     "output_type": "stream",
     "text": [
      "/opt/conda/lib/python3.7/site-packages/ipykernel_launcher.py:29: SettingWithCopyWarning: \n",
      "A value is trying to be set on a copy of a slice from a DataFrame.\n",
      "Try using .loc[row_indexer,col_indexer] = value instead\n",
      "\n",
      "See the caveats in the documentation: https://pandas.pydata.org/pandas-docs/stable/user_guide/indexing.html#returning-a-view-versus-a-copy\n"
     ]
    }
   ],
   "source": [
    "#Counting all the movies made per year\n",
    "fpy = data.pivot_table(index = ['year'], aggfunc = 'size')\n",
    "\n",
    "#Finding out the year with the most movies, plus how many movies\n",
    "max_year = fpy.idxmax()\n",
    "max_year_num = fpy.max()\n",
    "\n",
    "#Counting the number of all certificates\n",
    "all_cert = data.pivot_table(index = ['certificate'], aggfunc = 'size')\n",
    "\n",
    "max_cert = all_cert.idxmax()\n",
    "max_cert_num = all_cert.max()\n",
    "\n",
    "#Counting number of movies per director\n",
    "dir_movies = data.pivot_table(index = ['director'], aggfunc = 'size')\n",
    "\n",
    "most_dir = dir_movies.idxmax()\n",
    "most_dir_num = dir_movies.max()\n",
    "\n",
    "#Counting actors in star role\n",
    "act_movies = data.pivot_table(index = ['cast1'], aggfunc = 'size')\n",
    "\n",
    "most_star = act_movies.idxmax()\n",
    "most_star_num = act_movies.max()\n",
    "\n",
    "#Creating a dataframe to see year with the longest movie run time\n",
    "data['runtime'] = data['runtime'].str.replace(' min', '') #runtime can be converted to int easier\n",
    "timedf = data.dropna(subset=['runtime']) #As N/A values exist, converting to int isn't possible yet\n",
    "timedf['runtime'] = timedf['runtime'].astype('int')\n",
    "timedf = timedf.groupby(['year']).sum()\n",
    "timedf = timedf[['runtime']]\n",
    "\n",
    "longest_year = timedf.idxmax()\n",
    "longest_year_time = timedf.max()\n"
   ]
  },
  {
   "cell_type": "markdown",
   "id": "8f7ba336",
   "metadata": {
    "papermill": {
     "duration": 0.003137,
     "end_time": "2023-02-09T13:46:33.967806",
     "exception": false,
     "start_time": "2023-02-09T13:46:33.964669",
     "status": "completed"
    },
    "tags": []
   },
   "source": [
    "# First Analysis\n",
    "I just wanted to try and gather a few fun pieces of data.\n",
    "Like the fact that 2018 was the year with the most movies (319) which accumulated to 35,981 mins (or 599.68 hrs or 24.98 days) of runtime.\n",
    "Further analysis is shown down below, with code above."
   ]
  },
  {
   "cell_type": "code",
   "execution_count": 5,
   "id": "2ec387ea",
   "metadata": {
    "execution": {
     "iopub.execute_input": "2023-02-09T13:46:33.978578Z",
     "iopub.status.busy": "2023-02-09T13:46:33.977168Z",
     "iopub.status.idle": "2023-02-09T13:46:33.989158Z",
     "shell.execute_reply": "2023-02-09T13:46:33.987983Z"
    },
    "papermill": {
     "duration": 0.020749,
     "end_time": "2023-02-09T13:46:33.992094",
     "exception": false,
     "start_time": "2023-02-09T13:46:33.971345",
     "status": "completed"
    },
    "tags": []
   },
   "outputs": [
    {
     "name": "stdout",
     "output_type": "stream",
     "text": [
      "Year with the most movies is: 2018\n",
      "With 319 movies\n",
      "\n",
      "Within 2018 there is a total runtime    35981\n",
      "dtype: int64\n",
      "\n",
      "Number of movies released in 2020(year of pandemic):  210\n",
      "\n",
      "The director with the most movies is Woody Allen with a total of 48 movies\n",
      "The actor with the most star roles is Nicolas Cage in a total of 56 movies\n"
     ]
    }
   ],
   "source": [
    "print(f\"Year with the most movies is: {max_year}\")\n",
    "print(f\"With {max_year_num} movies\")\n",
    "\n",
    "print(f\"\\nWithin 2018 there is a total {longest_year_time}\") #Needs changing for an int or str value rather than df\n",
    "\n",
    "print(\"\\nNumber of movies released in 2020(year of pandemic): \", len(data[data.year == '2020']))\n",
    "\n",
    "print(f\"\\nThe director with the most movies is {most_dir} with a total of {most_dir_num} movies\")\n",
    "print(f\"The actor with the most star roles is {most_star} in a total of {most_star_num} movies\")"
   ]
  },
  {
   "cell_type": "code",
   "execution_count": 6,
   "id": "66b3a028",
   "metadata": {
    "execution": {
     "iopub.execute_input": "2023-02-09T13:46:34.000924Z",
     "iopub.status.busy": "2023-02-09T13:46:34.000519Z",
     "iopub.status.idle": "2023-02-09T13:46:34.013461Z",
     "shell.execute_reply": "2023-02-09T13:46:34.012116Z"
    },
    "papermill": {
     "duration": 0.020606,
     "end_time": "2023-02-09T13:46:34.016209",
     "exception": false,
     "start_time": "2023-02-09T13:46:33.995603",
     "status": "completed"
    },
    "tags": []
   },
   "outputs": [
    {
     "name": "stdout",
     "output_type": "stream",
     "text": [
      "             title\n",
      "certificate       \n",
      "(Banned)        11\n",
      "12               1\n",
      "12+              8\n",
      "13              80\n",
      "15+             21\n",
      "16             107\n",
      "16+              1\n",
      "18             199\n",
      "18+              4\n",
      "7               35\n",
      "7+               1\n",
      "A             1520\n",
      "All              5\n",
      "Approved         1\n",
      "G               20\n",
      "GP               1\n",
      "M/PG             2\n",
      "NC-17            7\n",
      "Not Rated      144\n",
      "PG             270\n",
      "PG-13          782\n",
      "R             2016\n",
      "U             1464\n",
      "U/A              2\n",
      "UA            1491\n",
      "UA 13+          29\n",
      "UA 16+          47\n",
      "UA 7+           16\n",
      "Unrated          7\n"
     ]
    }
   ],
   "source": [
    "import matplotlib.pyplot as plt\n",
    "\n",
    "certDf = data[['title', 'certificate']]\n",
    "certCount = certDf.groupby('certificate').count()\n",
    "\n",
    "print(certCount)"
   ]
  }
 ],
 "metadata": {
  "kernelspec": {
   "display_name": "Python 3",
   "language": "python",
   "name": "python3"
  },
  "language_info": {
   "codemirror_mode": {
    "name": "ipython",
    "version": 3
   },
   "file_extension": ".py",
   "mimetype": "text/x-python",
   "name": "python",
   "nbconvert_exporter": "python",
   "pygments_lexer": "ipython3",
   "version": "3.7.12"
  },
  "papermill": {
   "default_parameters": {},
   "duration": 9.572526,
   "end_time": "2023-02-09T13:46:34.640788",
   "environment_variables": {},
   "exception": null,
   "input_path": "__notebook__.ipynb",
   "output_path": "__notebook__.ipynb",
   "parameters": {},
   "start_time": "2023-02-09T13:46:25.068262",
   "version": "2.3.4"
  }
 },
 "nbformat": 4,
 "nbformat_minor": 5
}
