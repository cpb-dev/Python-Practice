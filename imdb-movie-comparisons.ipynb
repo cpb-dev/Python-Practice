{
 "cells": [
  {
   "cell_type": "code",
   "execution_count": 1,
   "id": "0a7a95c0",
   "metadata": {
    "_cell_guid": "b1076dfc-b9ad-4769-8c92-a6c4dae69d19",
    "_uuid": "8f2839f25d086af736a60e9eeb907d3b93b6e0e5",
    "execution": {
     "iopub.execute_input": "2023-02-09T14:31:54.667684Z",
     "iopub.status.busy": "2023-02-09T14:31:54.667207Z",
     "iopub.status.idle": "2023-02-09T14:31:54.693537Z",
     "shell.execute_reply": "2023-02-09T14:31:54.692406Z"
    },
    "papermill": {
     "duration": 0.034227,
     "end_time": "2023-02-09T14:31:54.696102",
     "exception": false,
     "start_time": "2023-02-09T14:31:54.661875",
     "status": "completed"
    },
    "tags": []
   },
   "outputs": [
    {
     "name": "stdout",
     "output_type": "stream",
     "text": [
      "/kaggle/input/imdb-movies/movies.csv\n"
     ]
    }
   ],
   "source": [
    "# This Python 3 environment comes with many helpful analytics libraries installed\n",
    "# It is defined by the kaggle/python Docker image: https://github.com/kaggle/docker-python\n",
    "# For example, here's several helpful packages to load\n",
    "\n",
    "import numpy as np # linear algebra\n",
    "import pandas as pd # data processing, CSV file I/O (e.g. pd.read_csv)\n",
    "\n",
    "# Input data files are available in the read-only \"../input/\" directory\n",
    "# For example, running this (by clicking run or pressing Shift+Enter) will list all files under the input directory\n",
    "\n",
    "import os\n",
    "for dirname, _, filenames in os.walk('/kaggle/input'):\n",
    "    for filename in filenames:\n",
    "        print(os.path.join(dirname, filename))\n",
    "\n",
    "# You can write up to 20GB to the current directory (/kaggle/working/) that gets preserved as output when you create a version using \"Save & Run All\" \n",
    "# You can also write temporary files to /kaggle/temp/, but they won't be saved outside of the current session"
   ]
  },
  {
   "cell_type": "code",
   "execution_count": 2,
   "id": "898eb357",
   "metadata": {
    "execution": {
     "iopub.execute_input": "2023-02-09T14:31:54.703749Z",
     "iopub.status.busy": "2023-02-09T14:31:54.703085Z",
     "iopub.status.idle": "2023-02-09T14:31:54.851981Z",
     "shell.execute_reply": "2023-02-09T14:31:54.850422Z"
    },
    "papermill": {
     "duration": 0.156822,
     "end_time": "2023-02-09T14:31:54.856004",
     "exception": false,
     "start_time": "2023-02-09T14:31:54.699182",
     "status": "completed"
    },
    "tags": []
   },
   "outputs": [
    {
     "name": "stdout",
     "output_type": "stream",
     "text": [
      "Missing values in dataset: \n",
      " (10067, 15) certificate    1775\n",
      "runtime           3\n",
      "metascore      2018\n",
      "gross          2815\n",
      "cast1             3\n",
      "cast2             4\n",
      "cast3            10\n",
      "cast4            20\n",
      "dtype: int64 \n",
      "\n"
     ]
    }
   ],
   "source": [
    "data = pd.read_csv('../input/imdb-movies/movies.csv')\n",
    "\n",
    "#Finding missing values\n",
    "missing_vals = (data.isnull().sum())\n",
    "\n",
    "print(\"Missing values in dataset: \\n\", data.shape, missing_vals[missing_vals > 0], \"\\n\")"
   ]
  },
  {
   "cell_type": "code",
   "execution_count": 3,
   "id": "6bc52347",
   "metadata": {
    "execution": {
     "iopub.execute_input": "2023-02-09T14:31:54.863679Z",
     "iopub.status.busy": "2023-02-09T14:31:54.862867Z",
     "iopub.status.idle": "2023-02-09T14:31:54.892207Z",
     "shell.execute_reply": "2023-02-09T14:31:54.891412Z"
    },
    "papermill": {
     "duration": 0.035559,
     "end_time": "2023-02-09T14:31:54.894623",
     "exception": false,
     "start_time": "2023-02-09T14:31:54.859064",
     "status": "completed"
    },
    "tags": []
   },
   "outputs": [
    {
     "data": {
      "text/html": [
       "<div>\n",
       "<style scoped>\n",
       "    .dataframe tbody tr th:only-of-type {\n",
       "        vertical-align: middle;\n",
       "    }\n",
       "\n",
       "    .dataframe tbody tr th {\n",
       "        vertical-align: top;\n",
       "    }\n",
       "\n",
       "    .dataframe thead th {\n",
       "        text-align: right;\n",
       "    }\n",
       "</style>\n",
       "<table border=\"1\" class=\"dataframe\">\n",
       "  <thead>\n",
       "    <tr style=\"text-align: right;\">\n",
       "      <th></th>\n",
       "      <th>title</th>\n",
       "      <th>year</th>\n",
       "      <th>certificate</th>\n",
       "      <th>runtime</th>\n",
       "      <th>genre</th>\n",
       "      <th>rating</th>\n",
       "      <th>metascore</th>\n",
       "      <th>synopsis</th>\n",
       "      <th>director</th>\n",
       "      <th>votes</th>\n",
       "      <th>gross</th>\n",
       "      <th>cast1</th>\n",
       "      <th>cast2</th>\n",
       "      <th>cast3</th>\n",
       "      <th>cast4</th>\n",
       "    </tr>\n",
       "  </thead>\n",
       "  <tbody>\n",
       "    <tr>\n",
       "      <th>0</th>\n",
       "      <td>The Dark Knight</td>\n",
       "      <td>2008</td>\n",
       "      <td>UA</td>\n",
       "      <td>152 min</td>\n",
       "      <td>Action, Crime, Drama</td>\n",
       "      <td>9.0</td>\n",
       "      <td>84.0</td>\n",
       "      <td>When the menace known as the Joker wreaks havo...</td>\n",
       "      <td>Christopher Nolan</td>\n",
       "      <td>2,669,470</td>\n",
       "      <td>$534.86M</td>\n",
       "      <td>Christian Bale</td>\n",
       "      <td>Heath Ledger</td>\n",
       "      <td>Aaron Eckhart</td>\n",
       "      <td>Michael Caine</td>\n",
       "    </tr>\n",
       "    <tr>\n",
       "      <th>1</th>\n",
       "      <td>The Lord of the Rings: The Return of the King</td>\n",
       "      <td>2003</td>\n",
       "      <td>U</td>\n",
       "      <td>201 min</td>\n",
       "      <td>Action, Adventure, Drama</td>\n",
       "      <td>9.0</td>\n",
       "      <td>94.0</td>\n",
       "      <td>Gandalf and Aragorn lead the World of Men agai...</td>\n",
       "      <td>Peter Jackson</td>\n",
       "      <td>1,856,911</td>\n",
       "      <td>$377.85M</td>\n",
       "      <td>Elijah Wood</td>\n",
       "      <td>Viggo Mortensen</td>\n",
       "      <td>Ian McKellen</td>\n",
       "      <td>Orlando Bloom</td>\n",
       "    </tr>\n",
       "    <tr>\n",
       "      <th>2</th>\n",
       "      <td>Inception</td>\n",
       "      <td>2010</td>\n",
       "      <td>UA</td>\n",
       "      <td>148 min</td>\n",
       "      <td>Action, Adventure, Sci-Fi</td>\n",
       "      <td>8.8</td>\n",
       "      <td>74.0</td>\n",
       "      <td>A thief who steals corporate secrets through t...</td>\n",
       "      <td>Christopher Nolan</td>\n",
       "      <td>2,368,139</td>\n",
       "      <td>$292.58M</td>\n",
       "      <td>Leonardo DiCaprio</td>\n",
       "      <td>Joseph Gordon-Levitt</td>\n",
       "      <td>Elliot Page</td>\n",
       "      <td>Ken Watanabe</td>\n",
       "    </tr>\n",
       "    <tr>\n",
       "      <th>3</th>\n",
       "      <td>The Lord of the Rings: The Fellowship of the Ring</td>\n",
       "      <td>2001</td>\n",
       "      <td>U</td>\n",
       "      <td>178 min</td>\n",
       "      <td>Action, Adventure, Drama</td>\n",
       "      <td>8.8</td>\n",
       "      <td>92.0</td>\n",
       "      <td>A meek Hobbit from the Shire and eight compani...</td>\n",
       "      <td>Peter Jackson</td>\n",
       "      <td>1,886,353</td>\n",
       "      <td>$315.54M</td>\n",
       "      <td>Elijah Wood</td>\n",
       "      <td>Ian McKellen</td>\n",
       "      <td>Orlando Bloom</td>\n",
       "      <td>Sean Bean</td>\n",
       "    </tr>\n",
       "    <tr>\n",
       "      <th>4</th>\n",
       "      <td>The Lord of the Rings: The Two Towers</td>\n",
       "      <td>2002</td>\n",
       "      <td>UA</td>\n",
       "      <td>179 min</td>\n",
       "      <td>Action, Adventure, Drama</td>\n",
       "      <td>8.8</td>\n",
       "      <td>87.0</td>\n",
       "      <td>While Frodo and Sam edge closer to Mordor with...</td>\n",
       "      <td>Peter Jackson</td>\n",
       "      <td>1,676,766</td>\n",
       "      <td>$342.55M</td>\n",
       "      <td>Elijah Wood</td>\n",
       "      <td>Ian McKellen</td>\n",
       "      <td>Viggo Mortensen</td>\n",
       "      <td>Orlando Bloom</td>\n",
       "    </tr>\n",
       "  </tbody>\n",
       "</table>\n",
       "</div>"
      ],
      "text/plain": [
       "                                               title  year certificate  \\\n",
       "0                                    The Dark Knight  2008          UA   \n",
       "1      The Lord of the Rings: The Return of the King  2003           U   \n",
       "2                                          Inception  2010          UA   \n",
       "3  The Lord of the Rings: The Fellowship of the Ring  2001           U   \n",
       "4              The Lord of the Rings: The Two Towers  2002          UA   \n",
       "\n",
       "   runtime                      genre  rating  metascore  \\\n",
       "0  152 min       Action, Crime, Drama     9.0       84.0   \n",
       "1  201 min   Action, Adventure, Drama     9.0       94.0   \n",
       "2  148 min  Action, Adventure, Sci-Fi     8.8       74.0   \n",
       "3  178 min   Action, Adventure, Drama     8.8       92.0   \n",
       "4  179 min   Action, Adventure, Drama     8.8       87.0   \n",
       "\n",
       "                                            synopsis           director  \\\n",
       "0  When the menace known as the Joker wreaks havo...  Christopher Nolan   \n",
       "1  Gandalf and Aragorn lead the World of Men agai...      Peter Jackson   \n",
       "2  A thief who steals corporate secrets through t...  Christopher Nolan   \n",
       "3  A meek Hobbit from the Shire and eight compani...      Peter Jackson   \n",
       "4  While Frodo and Sam edge closer to Mordor with...      Peter Jackson   \n",
       "\n",
       "       votes     gross              cast1                 cast2  \\\n",
       "0  2,669,470  $534.86M     Christian Bale          Heath Ledger   \n",
       "1  1,856,911  $377.85M        Elijah Wood       Viggo Mortensen   \n",
       "2  2,368,139  $292.58M  Leonardo DiCaprio  Joseph Gordon-Levitt   \n",
       "3  1,886,353  $315.54M        Elijah Wood          Ian McKellen   \n",
       "4  1,676,766  $342.55M        Elijah Wood          Ian McKellen   \n",
       "\n",
       "             cast3          cast4  \n",
       "0    Aaron Eckhart  Michael Caine  \n",
       "1     Ian McKellen  Orlando Bloom  \n",
       "2      Elliot Page   Ken Watanabe  \n",
       "3    Orlando Bloom      Sean Bean  \n",
       "4  Viggo Mortensen  Orlando Bloom  "
      ]
     },
     "execution_count": 3,
     "metadata": {},
     "output_type": "execute_result"
    }
   ],
   "source": [
    "data.head(5)"
   ]
  },
  {
   "cell_type": "code",
   "execution_count": 4,
   "id": "da0a0b34",
   "metadata": {
    "execution": {
     "iopub.execute_input": "2023-02-09T14:31:54.902802Z",
     "iopub.status.busy": "2023-02-09T14:31:54.902060Z",
     "iopub.status.idle": "2023-02-09T14:31:54.969273Z",
     "shell.execute_reply": "2023-02-09T14:31:54.967976Z"
    },
    "papermill": {
     "duration": 0.074504,
     "end_time": "2023-02-09T14:31:54.972311",
     "exception": false,
     "start_time": "2023-02-09T14:31:54.897807",
     "status": "completed"
    },
    "tags": []
   },
   "outputs": [
    {
     "name": "stderr",
     "output_type": "stream",
     "text": [
      "/opt/conda/lib/python3.7/site-packages/ipykernel_launcher.py:29: SettingWithCopyWarning: \n",
      "A value is trying to be set on a copy of a slice from a DataFrame.\n",
      "Try using .loc[row_indexer,col_indexer] = value instead\n",
      "\n",
      "See the caveats in the documentation: https://pandas.pydata.org/pandas-docs/stable/user_guide/indexing.html#returning-a-view-versus-a-copy\n"
     ]
    }
   ],
   "source": [
    "#Counting all the movies made per year\n",
    "fpy = data.pivot_table(index = ['year'], aggfunc = 'size')\n",
    "\n",
    "#Finding out the year with the most movies, plus how many movies\n",
    "max_year = fpy.idxmax()\n",
    "max_year_num = fpy.max()\n",
    "\n",
    "#Counting the number of all certificates\n",
    "all_cert = data.pivot_table(index = ['certificate'], aggfunc = 'size')\n",
    "\n",
    "max_cert = all_cert.idxmax()\n",
    "max_cert_num = all_cert.max()\n",
    "\n",
    "#Counting number of movies per director\n",
    "dir_movies = data.pivot_table(index = ['director'], aggfunc = 'size')\n",
    "\n",
    "most_dir = dir_movies.idxmax()\n",
    "most_dir_num = dir_movies.max()\n",
    "\n",
    "#Counting actors in star role\n",
    "act_movies = data.pivot_table(index = ['cast1'], aggfunc = 'size')\n",
    "\n",
    "most_star = act_movies.idxmax()\n",
    "most_star_num = act_movies.max()\n",
    "\n",
    "#Creating a dataframe to see year with the longest movie run time\n",
    "data['runtime'] = data['runtime'].str.replace(' min', '') #runtime can be converted to int easier\n",
    "timedf = data.dropna(subset=['runtime']) #As N/A values exist, converting to int isn't possible yet\n",
    "timedf['runtime'] = timedf['runtime'].astype('int')\n",
    "timedf = timedf.groupby(['year']).sum()\n",
    "timedf = timedf[['runtime']]\n",
    "\n",
    "longest_year = timedf.idxmax()\n",
    "longest_year_time = timedf.max()\n"
   ]
  },
  {
   "cell_type": "markdown",
   "id": "eee33710",
   "metadata": {
    "papermill": {
     "duration": 0.002841,
     "end_time": "2023-02-09T14:31:54.978361",
     "exception": false,
     "start_time": "2023-02-09T14:31:54.975520",
     "status": "completed"
    },
    "tags": []
   },
   "source": [
    "# First Analysis\n",
    "I just wanted to try and gather a few fun pieces of data.\n",
    "Like the fact that 2018 was the year with the most movies (319) which accumulated to 35,981 mins (or 599.68 hrs or 24.98 days) of runtime.\n",
    "Further analysis is shown down below, with code above."
   ]
  },
  {
   "cell_type": "code",
   "execution_count": 5,
   "id": "210b7b4e",
   "metadata": {
    "execution": {
     "iopub.execute_input": "2023-02-09T14:31:54.985843Z",
     "iopub.status.busy": "2023-02-09T14:31:54.985422Z",
     "iopub.status.idle": "2023-02-09T14:31:54.995235Z",
     "shell.execute_reply": "2023-02-09T14:31:54.994081Z"
    },
    "papermill": {
     "duration": 0.016345,
     "end_time": "2023-02-09T14:31:54.997608",
     "exception": false,
     "start_time": "2023-02-09T14:31:54.981263",
     "status": "completed"
    },
    "tags": []
   },
   "outputs": [
    {
     "name": "stdout",
     "output_type": "stream",
     "text": [
      "Year with the most movies is: 2018\n",
      "With 319 movies\n",
      "\n",
      "Within 2018 there is a total runtime    35981\n",
      "dtype: int64\n",
      "\n",
      "Number of movies released in 2020(year of pandemic):  210\n",
      "\n",
      "The director with the most movies is Woody Allen with a total of 48 movies\n",
      "The actor with the most star roles is Nicolas Cage in a total of 56 movies\n"
     ]
    }
   ],
   "source": [
    "print(f\"Year with the most movies is: {max_year}\")\n",
    "print(f\"With {max_year_num} movies\")\n",
    "\n",
    "print(f\"\\nWithin 2018 there is a total {longest_year_time}\") #Needs changing for an int or str value rather than df\n",
    "\n",
    "print(\"\\nNumber of movies released in 2020(year of pandemic): \", len(data[data.year == '2020']))\n",
    "\n",
    "print(f\"\\nThe director with the most movies is {most_dir} with a total of {most_dir_num} movies\")\n",
    "print(f\"The actor with the most star roles is {most_star} in a total of {most_star_num} movies\")"
   ]
  },
  {
   "cell_type": "code",
   "execution_count": 6,
   "id": "9bcf6ede",
   "metadata": {
    "execution": {
     "iopub.execute_input": "2023-02-09T14:31:55.005524Z",
     "iopub.status.busy": "2023-02-09T14:31:55.004934Z",
     "iopub.status.idle": "2023-02-09T14:31:57.218115Z",
     "shell.execute_reply": "2023-02-09T14:31:57.217173Z"
    },
    "papermill": {
     "duration": 2.219702,
     "end_time": "2023-02-09T14:31:57.220462",
     "exception": false,
     "start_time": "2023-02-09T14:31:55.000760",
     "status": "completed"
    },
    "tags": []
   },
   "outputs": [
    {
     "data": {
      "text/html": [
       "        <script type=\"text/javascript\">\n",
       "        window.PlotlyConfig = {MathJaxConfig: 'local'};\n",
       "        if (window.MathJax && window.MathJax.Hub && window.MathJax.Hub.Config) {window.MathJax.Hub.Config({SVG: {font: \"STIX-Web\"}});}\n",
       "        if (typeof require !== 'undefined') {\n",
       "        require.undef(\"plotly\");\n",
       "        requirejs.config({\n",
       "            paths: {\n",
       "                'plotly': ['https://cdn.plot.ly/plotly-2.18.0.min']\n",
       "            }\n",
       "        });\n",
       "        require(['plotly'], function(Plotly) {\n",
       "            window._Plotly = Plotly;\n",
       "        });\n",
       "        }\n",
       "        </script>\n",
       "        "
      ]
     },
     "metadata": {},
     "output_type": "display_data"
    },
    {
     "data": {
      "text/html": [
       "<div>                            <div id=\"dc0fa3e7-f2c6-4fe3-bbbb-10e8b419925c\" class=\"plotly-graph-div\" style=\"height:525px; width:100%;\"></div>            <script type=\"text/javascript\">                require([\"plotly\"], function(Plotly) {                    window.PLOTLYENV=window.PLOTLYENV || {};                                    if (document.getElementById(\"dc0fa3e7-f2c6-4fe3-bbbb-10e8b419925c\")) {                    Plotly.newPlot(                        \"dc0fa3e7-f2c6-4fe3-bbbb-10e8b419925c\",                        [{\"domain\":{\"x\":[0.0,1.0],\"y\":[0.0,1.0]},\"hovertemplate\":\"label=%{label}<br>value=%{value}<extra></extra>\",\"labels\":[\"R\",\"A\",\"UA\",\"U\",\"PG-13\",\"PG\",\"18\",\"Not Rated\",\"16\",\"13\",\"UA 16+\",\"7\",\"UA 13+\",\"15+\",\"G\",\"UA 7+\",\"(Banned)\",\"12+\",\"Unrated\",\"NC-17\",\"All\",\"18+\",\"U/A\",\"M/PG\",\"12\",\"GP\",\"Approved\",\"16+\",\"7+\"],\"legendgroup\":\"\",\"name\":\"\",\"showlegend\":true,\"values\":[2016,1520,1491,1464,782,270,199,144,107,80,47,35,29,21,20,16,11,8,7,7,5,4,2,2,1,1,1,1,1],\"type\":\"pie\"}],                        {\"template\":{\"data\":{\"histogram2dcontour\":[{\"type\":\"histogram2dcontour\",\"colorbar\":{\"outlinewidth\":0,\"ticks\":\"\"},\"colorscale\":[[0.0,\"#0d0887\"],[0.1111111111111111,\"#46039f\"],[0.2222222222222222,\"#7201a8\"],[0.3333333333333333,\"#9c179e\"],[0.4444444444444444,\"#bd3786\"],[0.5555555555555556,\"#d8576b\"],[0.6666666666666666,\"#ed7953\"],[0.7777777777777778,\"#fb9f3a\"],[0.8888888888888888,\"#fdca26\"],[1.0,\"#f0f921\"]]}],\"choropleth\":[{\"type\":\"choropleth\",\"colorbar\":{\"outlinewidth\":0,\"ticks\":\"\"}}],\"histogram2d\":[{\"type\":\"histogram2d\",\"colorbar\":{\"outlinewidth\":0,\"ticks\":\"\"},\"colorscale\":[[0.0,\"#0d0887\"],[0.1111111111111111,\"#46039f\"],[0.2222222222222222,\"#7201a8\"],[0.3333333333333333,\"#9c179e\"],[0.4444444444444444,\"#bd3786\"],[0.5555555555555556,\"#d8576b\"],[0.6666666666666666,\"#ed7953\"],[0.7777777777777778,\"#fb9f3a\"],[0.8888888888888888,\"#fdca26\"],[1.0,\"#f0f921\"]]}],\"heatmap\":[{\"type\":\"heatmap\",\"colorbar\":{\"outlinewidth\":0,\"ticks\":\"\"},\"colorscale\":[[0.0,\"#0d0887\"],[0.1111111111111111,\"#46039f\"],[0.2222222222222222,\"#7201a8\"],[0.3333333333333333,\"#9c179e\"],[0.4444444444444444,\"#bd3786\"],[0.5555555555555556,\"#d8576b\"],[0.6666666666666666,\"#ed7953\"],[0.7777777777777778,\"#fb9f3a\"],[0.8888888888888888,\"#fdca26\"],[1.0,\"#f0f921\"]]}],\"heatmapgl\":[{\"type\":\"heatmapgl\",\"colorbar\":{\"outlinewidth\":0,\"ticks\":\"\"},\"colorscale\":[[0.0,\"#0d0887\"],[0.1111111111111111,\"#46039f\"],[0.2222222222222222,\"#7201a8\"],[0.3333333333333333,\"#9c179e\"],[0.4444444444444444,\"#bd3786\"],[0.5555555555555556,\"#d8576b\"],[0.6666666666666666,\"#ed7953\"],[0.7777777777777778,\"#fb9f3a\"],[0.8888888888888888,\"#fdca26\"],[1.0,\"#f0f921\"]]}],\"contourcarpet\":[{\"type\":\"contourcarpet\",\"colorbar\":{\"outlinewidth\":0,\"ticks\":\"\"}}],\"contour\":[{\"type\":\"contour\",\"colorbar\":{\"outlinewidth\":0,\"ticks\":\"\"},\"colorscale\":[[0.0,\"#0d0887\"],[0.1111111111111111,\"#46039f\"],[0.2222222222222222,\"#7201a8\"],[0.3333333333333333,\"#9c179e\"],[0.4444444444444444,\"#bd3786\"],[0.5555555555555556,\"#d8576b\"],[0.6666666666666666,\"#ed7953\"],[0.7777777777777778,\"#fb9f3a\"],[0.8888888888888888,\"#fdca26\"],[1.0,\"#f0f921\"]]}],\"surface\":[{\"type\":\"surface\",\"colorbar\":{\"outlinewidth\":0,\"ticks\":\"\"},\"colorscale\":[[0.0,\"#0d0887\"],[0.1111111111111111,\"#46039f\"],[0.2222222222222222,\"#7201a8\"],[0.3333333333333333,\"#9c179e\"],[0.4444444444444444,\"#bd3786\"],[0.5555555555555556,\"#d8576b\"],[0.6666666666666666,\"#ed7953\"],[0.7777777777777778,\"#fb9f3a\"],[0.8888888888888888,\"#fdca26\"],[1.0,\"#f0f921\"]]}],\"mesh3d\":[{\"type\":\"mesh3d\",\"colorbar\":{\"outlinewidth\":0,\"ticks\":\"\"}}],\"scatter\":[{\"fillpattern\":{\"fillmode\":\"overlay\",\"size\":10,\"solidity\":0.2},\"type\":\"scatter\"}],\"parcoords\":[{\"type\":\"parcoords\",\"line\":{\"colorbar\":{\"outlinewidth\":0,\"ticks\":\"\"}}}],\"scatterpolargl\":[{\"type\":\"scatterpolargl\",\"marker\":{\"colorbar\":{\"outlinewidth\":0,\"ticks\":\"\"}}}],\"bar\":[{\"error_x\":{\"color\":\"#2a3f5f\"},\"error_y\":{\"color\":\"#2a3f5f\"},\"marker\":{\"line\":{\"color\":\"#E5ECF6\",\"width\":0.5},\"pattern\":{\"fillmode\":\"overlay\",\"size\":10,\"solidity\":0.2}},\"type\":\"bar\"}],\"scattergeo\":[{\"type\":\"scattergeo\",\"marker\":{\"colorbar\":{\"outlinewidth\":0,\"ticks\":\"\"}}}],\"scatterpolar\":[{\"type\":\"scatterpolar\",\"marker\":{\"colorbar\":{\"outlinewidth\":0,\"ticks\":\"\"}}}],\"histogram\":[{\"marker\":{\"pattern\":{\"fillmode\":\"overlay\",\"size\":10,\"solidity\":0.2}},\"type\":\"histogram\"}],\"scattergl\":[{\"type\":\"scattergl\",\"marker\":{\"colorbar\":{\"outlinewidth\":0,\"ticks\":\"\"}}}],\"scatter3d\":[{\"type\":\"scatter3d\",\"line\":{\"colorbar\":{\"outlinewidth\":0,\"ticks\":\"\"}},\"marker\":{\"colorbar\":{\"outlinewidth\":0,\"ticks\":\"\"}}}],\"scattermapbox\":[{\"type\":\"scattermapbox\",\"marker\":{\"colorbar\":{\"outlinewidth\":0,\"ticks\":\"\"}}}],\"scatterternary\":[{\"type\":\"scatterternary\",\"marker\":{\"colorbar\":{\"outlinewidth\":0,\"ticks\":\"\"}}}],\"scattercarpet\":[{\"type\":\"scattercarpet\",\"marker\":{\"colorbar\":{\"outlinewidth\":0,\"ticks\":\"\"}}}],\"carpet\":[{\"aaxis\":{\"endlinecolor\":\"#2a3f5f\",\"gridcolor\":\"white\",\"linecolor\":\"white\",\"minorgridcolor\":\"white\",\"startlinecolor\":\"#2a3f5f\"},\"baxis\":{\"endlinecolor\":\"#2a3f5f\",\"gridcolor\":\"white\",\"linecolor\":\"white\",\"minorgridcolor\":\"white\",\"startlinecolor\":\"#2a3f5f\"},\"type\":\"carpet\"}],\"table\":[{\"cells\":{\"fill\":{\"color\":\"#EBF0F8\"},\"line\":{\"color\":\"white\"}},\"header\":{\"fill\":{\"color\":\"#C8D4E3\"},\"line\":{\"color\":\"white\"}},\"type\":\"table\"}],\"barpolar\":[{\"marker\":{\"line\":{\"color\":\"#E5ECF6\",\"width\":0.5},\"pattern\":{\"fillmode\":\"overlay\",\"size\":10,\"solidity\":0.2}},\"type\":\"barpolar\"}],\"pie\":[{\"automargin\":true,\"type\":\"pie\"}]},\"layout\":{\"autotypenumbers\":\"strict\",\"colorway\":[\"#636efa\",\"#EF553B\",\"#00cc96\",\"#ab63fa\",\"#FFA15A\",\"#19d3f3\",\"#FF6692\",\"#B6E880\",\"#FF97FF\",\"#FECB52\"],\"font\":{\"color\":\"#2a3f5f\"},\"hovermode\":\"closest\",\"hoverlabel\":{\"align\":\"left\"},\"paper_bgcolor\":\"white\",\"plot_bgcolor\":\"#E5ECF6\",\"polar\":{\"bgcolor\":\"#E5ECF6\",\"angularaxis\":{\"gridcolor\":\"white\",\"linecolor\":\"white\",\"ticks\":\"\"},\"radialaxis\":{\"gridcolor\":\"white\",\"linecolor\":\"white\",\"ticks\":\"\"}},\"ternary\":{\"bgcolor\":\"#E5ECF6\",\"aaxis\":{\"gridcolor\":\"white\",\"linecolor\":\"white\",\"ticks\":\"\"},\"baxis\":{\"gridcolor\":\"white\",\"linecolor\":\"white\",\"ticks\":\"\"},\"caxis\":{\"gridcolor\":\"white\",\"linecolor\":\"white\",\"ticks\":\"\"}},\"coloraxis\":{\"colorbar\":{\"outlinewidth\":0,\"ticks\":\"\"}},\"colorscale\":{\"sequential\":[[0.0,\"#0d0887\"],[0.1111111111111111,\"#46039f\"],[0.2222222222222222,\"#7201a8\"],[0.3333333333333333,\"#9c179e\"],[0.4444444444444444,\"#bd3786\"],[0.5555555555555556,\"#d8576b\"],[0.6666666666666666,\"#ed7953\"],[0.7777777777777778,\"#fb9f3a\"],[0.8888888888888888,\"#fdca26\"],[1.0,\"#f0f921\"]],\"sequentialminus\":[[0.0,\"#0d0887\"],[0.1111111111111111,\"#46039f\"],[0.2222222222222222,\"#7201a8\"],[0.3333333333333333,\"#9c179e\"],[0.4444444444444444,\"#bd3786\"],[0.5555555555555556,\"#d8576b\"],[0.6666666666666666,\"#ed7953\"],[0.7777777777777778,\"#fb9f3a\"],[0.8888888888888888,\"#fdca26\"],[1.0,\"#f0f921\"]],\"diverging\":[[0,\"#8e0152\"],[0.1,\"#c51b7d\"],[0.2,\"#de77ae\"],[0.3,\"#f1b6da\"],[0.4,\"#fde0ef\"],[0.5,\"#f7f7f7\"],[0.6,\"#e6f5d0\"],[0.7,\"#b8e186\"],[0.8,\"#7fbc41\"],[0.9,\"#4d9221\"],[1,\"#276419\"]]},\"xaxis\":{\"gridcolor\":\"white\",\"linecolor\":\"white\",\"ticks\":\"\",\"title\":{\"standoff\":15},\"zerolinecolor\":\"white\",\"automargin\":true,\"zerolinewidth\":2},\"yaxis\":{\"gridcolor\":\"white\",\"linecolor\":\"white\",\"ticks\":\"\",\"title\":{\"standoff\":15},\"zerolinecolor\":\"white\",\"automargin\":true,\"zerolinewidth\":2},\"scene\":{\"xaxis\":{\"backgroundcolor\":\"#E5ECF6\",\"gridcolor\":\"white\",\"linecolor\":\"white\",\"showbackground\":true,\"ticks\":\"\",\"zerolinecolor\":\"white\",\"gridwidth\":2},\"yaxis\":{\"backgroundcolor\":\"#E5ECF6\",\"gridcolor\":\"white\",\"linecolor\":\"white\",\"showbackground\":true,\"ticks\":\"\",\"zerolinecolor\":\"white\",\"gridwidth\":2},\"zaxis\":{\"backgroundcolor\":\"#E5ECF6\",\"gridcolor\":\"white\",\"linecolor\":\"white\",\"showbackground\":true,\"ticks\":\"\",\"zerolinecolor\":\"white\",\"gridwidth\":2}},\"shapedefaults\":{\"line\":{\"color\":\"#2a3f5f\"}},\"annotationdefaults\":{\"arrowcolor\":\"#2a3f5f\",\"arrowhead\":0,\"arrowwidth\":1},\"geo\":{\"bgcolor\":\"white\",\"landcolor\":\"#E5ECF6\",\"subunitcolor\":\"white\",\"showland\":true,\"showlakes\":true,\"lakecolor\":\"white\"},\"title\":{\"x\":0.05},\"mapbox\":{\"style\":\"light\"}}},\"legend\":{\"tracegroupgap\":0},\"title\":{\"text\":\"Pie Chart of Movie Certificates\"}},                        {\"responsive\": true}                    ).then(function(){\n",
       "                            \n",
       "var gd = document.getElementById('dc0fa3e7-f2c6-4fe3-bbbb-10e8b419925c');\n",
       "var x = new MutationObserver(function (mutations, observer) {{\n",
       "        var display = window.getComputedStyle(gd).display;\n",
       "        if (!display || display === 'none') {{\n",
       "            console.log([gd, 'removed!']);\n",
       "            Plotly.purge(gd);\n",
       "            observer.disconnect();\n",
       "        }}\n",
       "}});\n",
       "\n",
       "// Listen for the removal of the full notebook cells\n",
       "var notebookContainer = gd.closest('#notebook-container');\n",
       "if (notebookContainer) {{\n",
       "    x.observe(notebookContainer, {childList: true});\n",
       "}}\n",
       "\n",
       "// Listen for the clearing of the current output cell\n",
       "var outputEl = gd.closest('.output');\n",
       "if (outputEl) {{\n",
       "    x.observe(outputEl, {childList: true});\n",
       "}}\n",
       "\n",
       "                        })                };                });            </script>        </div>"
      ]
     },
     "metadata": {},
     "output_type": "display_data"
    }
   ],
   "source": [
    "import matplotlib.pyplot as plt\n",
    "import plotly.express as px\n",
    "\n",
    "certDf = data[['title', 'certificate']]\n",
    "certCount = certDf.groupby('certificate').count()\n",
    "\n",
    "total = data['certificate'].value_counts().values.sum()\n",
    "\n",
    "#plt.pie(data['certificate'].value_counts().values, labels=data['certificate'].value_counts().index)\n",
    "fig = px.pie(data, values= data['certificate'].value_counts().values, names=data['certificate'].value_counts().index, title='Pie Chart of Movie Certificates')\n",
    "fig.show()\n"
   ]
  }
 ],
 "metadata": {
  "kernelspec": {
   "display_name": "Python 3",
   "language": "python",
   "name": "python3"
  },
  "language_info": {
   "codemirror_mode": {
    "name": "ipython",
    "version": 3
   },
   "file_extension": ".py",
   "mimetype": "text/x-python",
   "name": "python",
   "nbconvert_exporter": "python",
   "pygments_lexer": "ipython3",
   "version": "3.7.12"
  },
  "papermill": {
   "default_parameters": {},
   "duration": 11.418695,
   "end_time": "2023-02-09T14:31:57.945805",
   "environment_variables": {},
   "exception": null,
   "input_path": "__notebook__.ipynb",
   "output_path": "__notebook__.ipynb",
   "parameters": {},
   "start_time": "2023-02-09T14:31:46.527110",
   "version": "2.3.4"
  }
 },
 "nbformat": 4,
 "nbformat_minor": 5
}
